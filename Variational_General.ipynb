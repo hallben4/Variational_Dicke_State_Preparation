{
 "cells": [
  {
   "cell_type": "markdown",
   "metadata": {},
   "source": [
    "# Variational Dicke State Preparation"
   ]
  },
  {
   "cell_type": "code",
   "execution_count": 1,
   "metadata": {},
   "outputs": [
    {
     "name": "stderr",
     "output_type": "stream",
     "text": [
      "C:\\Users\\Hannah\\anaconda3\\lib\\site-packages\\qiskit\\providers\\ibmq\\ibmqfactory.py:192: UserWarning: Timestamps in IBMQ backend properties, jobs, and job results are all now in local time instead of UTC.\n",
      "  warnings.warn('Timestamps in IBMQ backend properties, jobs, and job results '\n"
     ]
    }
   ],
   "source": [
    "# Imports\n",
    "import math\n",
    "import cmath\n",
    "%matplotlib inline\n",
    "import matplotlib as mp\n",
    "import matplotlib.pyplot as plt\n",
    "import numpy as np\n",
    "import scipy as sp\n",
    "from numpy import linalg as la\n",
    "from scipy import linalg as sla\n",
    "from IPython.display import clear_output\n",
    "import time\n",
    "import pickle\n",
    "from qiskit.extensions import XGate, UnitaryGate\n",
    "from qiskit import *\n",
    "from qiskit.compiler import transpile\n",
    "from qiskit.visualization import plot_histogram\n",
    "\n",
    "provider = IBMQ.load_account()\n",
    "from qiskit.providers.aer.noise import NoiseModel\n",
    "\n",
    "from qiskit.quantum_info.synthesis import two_qubit_cnot_decompose as two_qubit_decomp\n",
    "\n",
    "X = np.matrix([[0,1],[1,0]],dtype=complex)\n",
    "Y = np.matrix([[0,-1j],[1j,0]],dtype=complex)\n",
    "\n",
    "swap = np.array([[1,0,0,0],\n",
    "                 [0,0,1,0],\n",
    "                 [0,1,0,0],\n",
    "                 [0,0,0,1]])"
   ]
  },
  {
   "cell_type": "code",
   "execution_count": 2,
   "metadata": {},
   "outputs": [],
   "source": [
    "def pswap(theta):\n",
    "    \n",
    "    mat = np.array([[1,0,0,0],[0,np.cos(theta),-np.sin(theta),0],[0,np.sin(theta),np.cos(theta),0],[0,0,0,1]])\n",
    "    \n",
    "    return mat"
   ]
  },
  {
   "cell_type": "code",
   "execution_count": 3,
   "metadata": {},
   "outputs": [],
   "source": [
    "def keys(n,k):\n",
    "    return list "
   ]
  },
  {
   "cell_type": "code",
   "execution_count": 4,
   "metadata": {},
   "outputs": [],
   "source": [
    "def DickeCircuit(n,k,theta):\n",
    "    q = QuantumRegister(4,'q')\n",
    "    c = ClassicalRegister(4,'c')\n",
    "    circ = QuantumCircuit(q,c)\n",
    "    \n",
    "    circ.h(q[0])\n",
    "    circ.x(q[1])\n",
    "    circ.cx(q[0],q[1])\n",
    "\n",
    "    circ.cx(q[0],q[2])\n",
    "    circ.cx(q[1],q[3])\n",
    "\n",
    "    circ.append(two_qubit_decomp(pswap(theta[0])),[q[2],q[3]])\n",
    "    circ.append(two_qubit_decomp(pswap(theta[1])),[q[1],q[2]])\n",
    "\n",
    "    circ.cz(q[0],q[1])\n",
    "    circ.cz(q[1],q[2])\n",
    "\n",
    "    return circ\n",
    "    "
   ]
  },
  {
   "cell_type": "code",
   "execution_count": 11,
   "metadata": {},
   "outputs": [],
   "source": [
    "def DickeCounts(n,k,theta,shots):\n",
    "    qc = DickeCircuit(n,k,theta)\n",
    "    qc.measure(range(n),range(n))\n",
    "    backend      = Aer.get_backend(\"qasm_simulator\")\n",
    "    simulate     = execute(qc, backend=backend, shots=shots)\n",
    "    counts = simulate.result().get_counts()\n",
    "    return counts"
   ]
  },
  {
   "cell_type": "code",
   "execution_count": 10,
   "metadata": {},
   "outputs": [],
   "source": [
    "def objG(theta,constants):\n",
    "    n = constants[1]\n",
    "    k = constants[2]\n",
    "    shots = constants[0]\n",
    "    \n",
    "    num = 3 \n",
    "        \n",
    "    keys = ['1100','1010','1001','0110','0101','0011']\n",
    "    \n",
    "    counts_dict_list = []\n",
    "    for i in range(num):\n",
    "        counts_dict_list.append(DickeCounts(n,k,theta,shots))\n",
    "  \n",
    "    \n",
    "    counts_avg = []    # average of each key \n",
    "    for key in keys:  #for each key \n",
    "        c_list = []\n",
    "        for i in range(num):\n",
    "            if key in counts_dict_list[i].keys():\n",
    "                c_list.append(counts_dict_list[i][key])\n",
    "            else:\n",
    "                c_list.append(0)\n",
    "        counts_avg.append(np.average(c_list))\n",
    "\n",
    "    return np.std(counts_avg)\n",
    "    \n",
    "    "
   ]
  },
  {
   "cell_type": "code",
   "execution_count": 12,
   "metadata": {},
   "outputs": [],
   "source": [
    "#prepares a Dicke state with given n and k\n",
    "#returns the circuit\n",
    "def Dicke(n,k,shots):\n",
    "    \n",
    "    n_theta = 2\n",
    "    constants = [shots,n,k]\n",
    "\n",
    "    theta = []\n",
    "    for i in range(n_theta):\n",
    "        theta.append(np.random.uniform(0,2*np.pi))\n",
    "\n",
    "    x_list = []\n",
    "    def callback(x):\n",
    "        x_list.append(objG(x,constants))\n",
    "        itr = np.linspace(1,len(x_list),len(x_list))\n",
    "        plt.plot(itr,x_list)\n",
    "        clear_output(wait=True)\n",
    "        plt.show()\n",
    "\n",
    "    opt = sp.optimize.minimize(objG, x0=theta, args=constants, method = 'Powell', callback=callback)\n",
    "    theta_min = opt.x\n",
    "    print(theta_min)\n",
    "\n",
    "    counts_best = DickeCounts(n,k,theta_min,shots)\n",
    "    print(counts_best)\n",
    "\n",
    "    std_best = objG(theta_min,constants)\n",
    "    print(std_best)\n",
    "\n",
    "    ##simulation of the circuit with the right parameters\n",
    "    return DickeCircuit(n,k,opt.x)"
   ]
  },
  {
   "cell_type": "code",
   "execution_count": 13,
   "metadata": {},
   "outputs": [
    {
     "data": {
      "image/png": "[encoded data removed]",
      "text/plain": [
       "<Figure size 432x288 with 1 Axes>"
      ]
     },
     "metadata": {
      "needs_background": "light"
     },
     "output_type": "display_data"
    },
    {
     "name": "stdout",
     "output_type": "stream",
     "text": [
      "[5.67129642 0.79473452]\n",
      "{'0011': 182, '0101': 171, '0110': 151, '1001': 183, '1010': 160, '1100': 177}\n",
      "5.171145012542262\n"
     ]
    },
    {
     "data": {
      "image/png": "[encoded data removed]",
      "text/plain": [
       "<Figure size 576x432 with 1 Axes>"
      ]
     },
     "metadata": {},
     "output_type": "display_data"
    }
   ],
   "source": [
    "n = 4\n",
    "k = 2\n",
    "shots = 1024\n",
    "qc = Dicke(n,k,1024)\n",
    "qc.measure(range(n),range(n))\n",
    "backend      = Aer.get_backend(\"qasm_simulator\")\n",
    "simulate     = execute(qc, backend=backend, shots=shots)\n",
    "results = simulate.result()\n",
    "display (plot_histogram(results.get_counts(),figsize = (8,6),bar_labels = False))"
   ]
  },
  {
   "cell_type": "code",
   "execution_count": null,
   "metadata": {},
   "outputs": [],
   "source": []
  },
  {
   "cell_type": "code",
   "execution_count": null,
   "metadata": {},
   "outputs": [],
   "source": []
  },
  {
   "cell_type": "code",
   "execution_count": null,
   "metadata": {},
   "outputs": [],
   "source": []
  },
  {
   "cell_type": "code",
   "execution_count": null,
   "metadata": {},
   "outputs": [],
   "source": []
  },
  {
   "cell_type": "code",
   "execution_count": null,
   "metadata": {},
   "outputs": [],
   "source": []
  },
  {
   "cell_type": "code",
   "execution_count": null,
   "metadata": {},
   "outputs": [],
   "source": []
  },
  {
   "cell_type": "code",
   "execution_count": null,
   "metadata": {},
   "outputs": [],
   "source": []
  }
 ],
 "metadata": {
  "kernelspec": {
   "display_name": "Python 3",
   "language": "python",
   "name": "python3"
  },
  "language_info": {
   "codemirror_mode": {
    "name": "ipython",
    "version": 3
   },
   "file_extension": ".py",
   "mimetype": "text/x-python",
   "name": "python",
   "nbconvert_exporter": "python",
   "pygments_lexer": "ipython3",
   "version": "3.8.3"
  }
 },
 "nbformat": 4,
 "nbformat_minor": 4
}
