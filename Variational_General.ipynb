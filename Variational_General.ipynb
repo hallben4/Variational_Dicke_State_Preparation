{
 "cells": [
  {
   "cell_type": "markdown",
   "metadata": {},
   "source": [
    "# Variational Dicke State Preparation"
   ]
  },
  {
   "cell_type": "code",
   "execution_count": 72,
   "metadata": {},
   "outputs": [],
   "source": [
    "# Imports\n",
    "import math\n",
    "import cmath\n",
    "%matplotlib inline\n",
    "import matplotlib as mp\n",
    "import matplotlib.pyplot as plt\n",
    "import numpy as np\n",
    "import scipy as sp\n",
    "from numpy import linalg as la\n",
    "from scipy import linalg as sla\n",
    "from scipy.special import binom\n",
    "from IPython.display import clear_output\n",
    "import time\n",
    "import pickle\n",
    "from qiskit.extensions import XGate, UnitaryGate\n",
    "from qiskit import *\n",
    "from qiskit.compiler import transpile\n",
    "from qiskit.visualization import plot_histogram\n",
    "import itertools\n",
    "\n",
    "# provider = IBMQ.load_account()\n",
    "from qiskit.providers.aer.noise import NoiseModel\n",
    "\n",
    "from qiskit.quantum_info.synthesis import two_qubit_cnot_decompose as two_qubit_decomp\n",
    "\n",
    "X = np.matrix([[0,1],[1,0]],dtype=complex)\n",
    "Y = np.matrix([[0,-1j],[1j,0]],dtype=complex)\n",
    "\n",
    "swap = np.array([[1,0,0,0],\n",
    "                 [0,0,1,0],\n",
    "                 [0,1,0,0],\n",
    "                 [0,0,0,1]])\n",
    "\n",
    "# Local import\n",
    "from DickeCircuit import DickeCirc"
   ]
  },
  {
   "cell_type": "code",
   "execution_count": 73,
   "metadata": {},
   "outputs": [],
   "source": [
    "def pswap(theta):\n",
    "    \n",
    "    mat = np.array([[1,0,0,0],[0,np.cos(theta),-np.sin(theta),0],[0,np.sin(theta),np.cos(theta),0],[0,0,0,1]])\n",
    "    \n",
    "    return mat"
   ]
  },
  {
   "cell_type": "code",
   "execution_count": 74,
   "metadata": {},
   "outputs": [],
   "source": [
    "# def keys(n,k):\n",
    "#     print(n,k)\n",
    "#     if n == 1:\n",
    "#         if k == 0:\n",
    "#             return '0'\n",
    "#         else:\n",
    "#             return '1'\n",
    "#     elif k == 0:\n",
    "#         return '1'*n\n",
    "\n",
    "#     else:\n",
    "#         return keys(n-1,k-1)+'1'+keys(n-1,k)+'0'"
   ]
  },
  {
   "cell_type": "code",
   "execution_count": 75,
   "metadata": {},
   "outputs": [],
   "source": [
    "def keys_fun(n,k):\n",
    "    result = []\n",
    "    for bits in itertools.combinations(range(n), k):\n",
    "        s = ['0'] * n\n",
    "        for bit in bits:\n",
    "            s[bit] = '1'\n",
    "        result.append(''.join(s))\n",
    "    return result"
   ]
  },
  {
   "cell_type": "code",
   "execution_count": 76,
   "metadata": {},
   "outputs": [],
   "source": [
    "def DickeCounts(n,k,layer,theta,shots,init):\n",
    "    qc = DickeCirc(n,k,layer,theta,init)\n",
    "    qc.measure(range(n),range(n))\n",
    "    backend      = Aer.get_backend(\"qasm_simulator\")\n",
    "    simulate     = execute(qc, backend=backend, shots=shots)\n",
    "    counts = simulate.result().get_counts()\n",
    "    return counts"
   ]
  },
  {
   "cell_type": "code",
   "execution_count": 81,
   "metadata": {},
   "outputs": [],
   "source": [
    "def objG(theta,constants):\n",
    "    \n",
    "    n = constants[0]\n",
    "    k = constants[1]\n",
    "    layer = constants[2]\n",
    "    shots = constants[3]\n",
    "    init = constants[4]\n",
    "        \n",
    "    keys = keys_fun(n,k)\n",
    "    \n",
    "    num = 3\n",
    "    \n",
    "    counts_dict_list = []\n",
    "    for i in range(num):\n",
    "        counts_dict_list.append(DickeCounts(n,k,layer,theta,shots,init))\n",
    "    \n",
    "    counts_avg = []\n",
    "    for key in keys:\n",
    "        c_list = []\n",
    "        for i in range(num):\n",
    "            if key in counts_dict_list[i]:\n",
    "                c_list.append(counts_dict_list[i][key])\n",
    "            else:\n",
    "                c_list.append(0)\n",
    "        counts_avg.append(np.average(c_list))\n",
    "\n",
    "    return np.std(counts_avg)"
   ]
  },
  {
   "cell_type": "code",
   "execution_count": 101,
   "metadata": {},
   "outputs": [],
   "source": [
    "def objG_state_overlap(theta,constants):\n",
    "    n = constants[0]\n",
    "    k = constants[1]\n",
    "    layer = constants[2]\n",
    "    shots = constants[3]\n",
    "    init = constants[4]\n",
    "       \n",
    "    counts = DickeCounts(n,k,layer,theta,shots,init)\n",
    "    optimal = binom(n,k)\n",
    "    dotproduct = 0\n",
    "    for key,value in counts.items():\n",
    "        dotproduct += math.sqrt(value/shots)\n",
    "\n",
    "    return (1 - dotproduct/math.sqrt(optimal))\n",
    "  "
   ]
  },
  {
   "cell_type": "code",
   "execution_count": 106,
   "metadata": {},
   "outputs": [],
   "source": [
    "#prepares a Dicke state with given n and k\n",
    "#returns the circuit\n",
    "def Dicke(n,k,layer,shots,init):\n",
    "    \n",
    "    n_theta = 8\n",
    "    constants = [n,k,layer,shots,init]\n",
    "\n",
    "    theta = []\n",
    "    for i in range(n_theta):\n",
    "        theta.append(np.random.uniform(0,2*np.pi))\n",
    "\n",
    "    x_list = []\n",
    "    def callback(x):\n",
    "        x_list.append(objG(x,constants))\n",
    "        itr = np.linspace(1,len(x_list),len(x_list))\n",
    "        plt.plot(itr,x_list)\n",
    "        clear_output(wait=True)\n",
    "        plt.show()\n",
    "\n",
    "    opt = sp.optimize.minimize(objG, x0=theta, args=constants, method = 'SLSQP’', callback=callback)\n",
    "    theta_min = opt.x\n",
    "    print(theta_min)\n",
    "\n",
    "    counts_best = DickeCounts(n,k,layer,theta_min,shots,init)\n",
    "    print(counts_best)\n",
    "\n",
    "    std_best = objG(theta_min,constants)\n",
    "    print(std_best)\n",
    "\n",
    "    ##simulation of the circuit with the right parameters\n",
    "    return DickeCirc(n,k,layer,theta_min,init)"
   ]
  },
  {
   "cell_type": "code",
   "execution_count": 107,
   "metadata": {},
   "outputs": [
    {
     "ename": "ValueError",
     "evalue": "Unknown solver SLSQP’",
     "output_type": "error",
     "traceback": [
      "\u001b[0;31m---------------------------------------------------------------------------\u001b[0m",
      "\u001b[0;31mValueError\u001b[0m                                Traceback (most recent call last)",
      "\u001b[0;32m<ipython-input-107-ca4dfcc541af>\u001b[0m in \u001b[0;36m<module>\u001b[0;34m\u001b[0m\n\u001b[1;32m      5\u001b[0m \u001b[0minit\u001b[0m \u001b[0;34m=\u001b[0m \u001b[0;34m'pure'\u001b[0m\u001b[0;34m\u001b[0m\u001b[0;34m\u001b[0m\u001b[0m\n\u001b[1;32m      6\u001b[0m \u001b[0;34m\u001b[0m\u001b[0m\n\u001b[0;32m----> 7\u001b[0;31m \u001b[0mqc\u001b[0m \u001b[0;34m=\u001b[0m \u001b[0mDicke\u001b[0m\u001b[0;34m(\u001b[0m\u001b[0mn\u001b[0m\u001b[0;34m,\u001b[0m\u001b[0mk\u001b[0m\u001b[0;34m,\u001b[0m\u001b[0mlayer\u001b[0m\u001b[0;34m,\u001b[0m\u001b[0mshots\u001b[0m\u001b[0;34m,\u001b[0m\u001b[0minit\u001b[0m\u001b[0;34m)\u001b[0m\u001b[0;34m\u001b[0m\u001b[0;34m\u001b[0m\u001b[0m\n\u001b[0m\u001b[1;32m      8\u001b[0m \u001b[0mdisplay\u001b[0m \u001b[0;34m(\u001b[0m\u001b[0mqc\u001b[0m\u001b[0;34m.\u001b[0m\u001b[0mdraw\u001b[0m\u001b[0;34m(\u001b[0m\u001b[0moutput\u001b[0m\u001b[0;34m=\u001b[0m\u001b[0;34m'mpl'\u001b[0m\u001b[0;34m)\u001b[0m\u001b[0;34m)\u001b[0m\u001b[0;34m\u001b[0m\u001b[0;34m\u001b[0m\u001b[0m\n\u001b[1;32m      9\u001b[0m \u001b[0mqc\u001b[0m\u001b[0;34m.\u001b[0m\u001b[0mmeasure\u001b[0m\u001b[0;34m(\u001b[0m\u001b[0mrange\u001b[0m\u001b[0;34m(\u001b[0m\u001b[0mn\u001b[0m\u001b[0;34m)\u001b[0m\u001b[0;34m,\u001b[0m\u001b[0mrange\u001b[0m\u001b[0;34m(\u001b[0m\u001b[0mn\u001b[0m\u001b[0;34m)\u001b[0m\u001b[0;34m)\u001b[0m\u001b[0;34m\u001b[0m\u001b[0;34m\u001b[0m\u001b[0m\n",
      "\u001b[0;32m<ipython-input-106-6f513b3fcf63>\u001b[0m in \u001b[0;36mDicke\u001b[0;34m(n, k, layer, shots, init)\u001b[0m\n\u001b[1;32m     18\u001b[0m         \u001b[0mplt\u001b[0m\u001b[0;34m.\u001b[0m\u001b[0mshow\u001b[0m\u001b[0;34m(\u001b[0m\u001b[0;34m)\u001b[0m\u001b[0;34m\u001b[0m\u001b[0;34m\u001b[0m\u001b[0m\n\u001b[1;32m     19\u001b[0m \u001b[0;34m\u001b[0m\u001b[0m\n\u001b[0;32m---> 20\u001b[0;31m     \u001b[0mopt\u001b[0m \u001b[0;34m=\u001b[0m \u001b[0msp\u001b[0m\u001b[0;34m.\u001b[0m\u001b[0moptimize\u001b[0m\u001b[0;34m.\u001b[0m\u001b[0mminimize\u001b[0m\u001b[0;34m(\u001b[0m\u001b[0mobjG\u001b[0m\u001b[0;34m,\u001b[0m \u001b[0mx0\u001b[0m\u001b[0;34m=\u001b[0m\u001b[0mtheta\u001b[0m\u001b[0;34m,\u001b[0m \u001b[0margs\u001b[0m\u001b[0;34m=\u001b[0m\u001b[0mconstants\u001b[0m\u001b[0;34m,\u001b[0m \u001b[0mmethod\u001b[0m \u001b[0;34m=\u001b[0m \u001b[0;34m'SLSQP’'\u001b[0m\u001b[0;34m,\u001b[0m \u001b[0mcallback\u001b[0m\u001b[0;34m=\u001b[0m\u001b[0mcallback\u001b[0m\u001b[0;34m)\u001b[0m\u001b[0;34m\u001b[0m\u001b[0;34m\u001b[0m\u001b[0m\n\u001b[0m\u001b[1;32m     21\u001b[0m     \u001b[0mtheta_min\u001b[0m \u001b[0;34m=\u001b[0m \u001b[0mopt\u001b[0m\u001b[0;34m.\u001b[0m\u001b[0mx\u001b[0m\u001b[0;34m\u001b[0m\u001b[0;34m\u001b[0m\u001b[0m\n\u001b[1;32m     22\u001b[0m     \u001b[0mprint\u001b[0m\u001b[0;34m(\u001b[0m\u001b[0mtheta_min\u001b[0m\u001b[0;34m)\u001b[0m\u001b[0;34m\u001b[0m\u001b[0;34m\u001b[0m\u001b[0m\n",
      "\u001b[0;32m~/anaconda3/lib/python3.7/site-packages/scipy/optimize/_minimize.py\u001b[0m in \u001b[0;36mminimize\u001b[0;34m(fun, x0, args, method, jac, hess, hessp, bounds, constraints, tol, callback, options)\u001b[0m\n\u001b[1;32m    642\u001b[0m                                            callback=callback, **options)\n\u001b[1;32m    643\u001b[0m     \u001b[0;32melse\u001b[0m\u001b[0;34m:\u001b[0m\u001b[0;34m\u001b[0m\u001b[0;34m\u001b[0m\u001b[0m\n\u001b[0;32m--> 644\u001b[0;31m         \u001b[0;32mraise\u001b[0m \u001b[0mValueError\u001b[0m\u001b[0;34m(\u001b[0m\u001b[0;34m'Unknown solver %s'\u001b[0m \u001b[0;34m%\u001b[0m \u001b[0mmethod\u001b[0m\u001b[0;34m)\u001b[0m\u001b[0;34m\u001b[0m\u001b[0;34m\u001b[0m\u001b[0m\n\u001b[0m\u001b[1;32m    645\u001b[0m \u001b[0;34m\u001b[0m\u001b[0m\n\u001b[1;32m    646\u001b[0m \u001b[0;34m\u001b[0m\u001b[0m\n",
      "\u001b[0;31mValueError\u001b[0m: Unknown solver SLSQP’"
     ]
    }
   ],
   "source": [
    "n = 5\n",
    "k = 2\n",
    "layer = 4\n",
    "shots = 3000\n",
    "init = 'pure'\n",
    "\n",
    "qc = Dicke(n,k,layer,shots,init)\n",
    "display (qc.draw(output='mpl'))\n",
    "qc.measure(range(n),range(n))\n",
    "backend      = Aer.get_backend(\"qasm_simulator\")\n",
    "simulate     = execute(qc, backend=backend, shots=shots)\n",
    "results = simulate.result()\n",
    "display (plot_histogram(results.get_counts(),figsize = (8,6),bar_labels = False))"
   ]
  }
 ],
 "metadata": {
  "kernelspec": {
   "display_name": "Python 3",
   "language": "python",
   "name": "python3"
  },
  "language_info": {
   "codemirror_mode": {
    "name": "ipython",
    "version": 3
   },
   "file_extension": ".py",
   "mimetype": "text/x-python",
   "name": "python",
   "nbconvert_exporter": "python",
   "pygments_lexer": "ipython3",
   "version": "3.7.3"
  }
 },
 "nbformat": 4,
 "nbformat_minor": 4
}
