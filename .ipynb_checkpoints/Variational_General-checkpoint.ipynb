{
 "cells": [
  {
   "cell_type": "markdown",
   "metadata": {},
   "source": [
    "# Variational Dicke State Preparation"
   ]
  },
  {
   "cell_type": "code",
   "execution_count": 1,
   "metadata": {},
   "outputs": [],
   "source": [
    "# Imports\n",
    "import math\n",
    "import cmath\n",
    "%matplotlib inline\n",
    "import matplotlib as mp\n",
    "import matplotlib.pyplot as plt\n",
    "import numpy as np\n",
    "import scipy as sp\n",
    "from numpy import linalg as la\n",
    "from scipy import linalg as sla\n",
    "from scipy.special import binom\n",
    "from IPython.display import clear_output\n",
    "import time\n",
    "import pickle\n",
    "from qiskit.extensions import XGate, UnitaryGate\n",
    "from qiskit import *\n",
    "from qiskit.compiler import transpile\n",
    "from qiskit.visualization import plot_histogram\n",
    "import itertools\n",
    "\n",
    "# provider = IBMQ.load_account()\n",
    "from qiskit.providers.aer.noise import NoiseModel\n",
    "\n",
    "from qiskit.quantum_info.synthesis import two_qubit_cnot_decompose as two_qubit_decomp\n",
    "\n",
    "X = np.matrix([[0,1],[1,0]],dtype=complex)\n",
    "Y = np.matrix([[0,-1j],[1j,0]],dtype=complex)\n",
    "\n",
    "swap = np.array([[1,0,0,0],\n",
    "                 [0,0,1,0],\n",
    "                 [0,1,0,0],\n",
    "                 [0,0,0,1]])\n",
    "\n",
    "# Local import\n",
    "from DickeCircuit import DickeCirc"
   ]
  },
  {
   "cell_type": "code",
   "execution_count": 2,
   "metadata": {},
   "outputs": [],
   "source": [
    "def pswap(theta):\n",
    "    \n",
    "    mat = np.array([[1,0,0,0],[0,np.cos(theta),-np.sin(theta),0],[0,np.sin(theta),np.cos(theta),0],[0,0,0,1]])\n",
    "    \n",
    "    return mat"
   ]
  },
  {
   "cell_type": "code",
   "execution_count": 3,
   "metadata": {},
   "outputs": [],
   "source": [
    "# def keys(n,k):\n",
    "#     print(n,k)\n",
    "#     if n == 1:\n",
    "#         if k == 0:\n",
    "#             return '0'\n",
    "#         else:\n",
    "#             return '1'\n",
    "#     elif k == 0:\n",
    "#         return '1'*n\n",
    "\n",
    "#     else:\n",
    "#         return keys(n-1,k-1)+'1'+keys(n-1,k)+'0'"
   ]
  },
  {
   "cell_type": "code",
   "execution_count": 4,
   "metadata": {},
   "outputs": [],
   "source": [
    "def keys_fun(n,k):\n",
    "    result = []\n",
    "    for bits in itertools.combinations(range(n), k):\n",
    "        s = ['0'] * n\n",
    "        for bit in bits:\n",
    "            s[bit] = '1'\n",
    "        result.append(''.join(s))\n",
    "    return result"
   ]
  },
  {
   "cell_type": "code",
   "execution_count": 9,
   "metadata": {},
   "outputs": [],
   "source": [
    "def DickeCounts(n,k,layer,theta,shots,init):\n",
    "    qc = DickeCirc(n,k,layer,theta,init)\n",
    "    qc.measure(range(n),range(n))\n",
    "    backend      = Aer.get_backend(\"qasm_simulator\")\n",
    "    simulate     = execute(qc, backend=backend, shots=shots)\n",
    "    counts = simulate.result().get_counts()\n",
    "    return counts"
   ]
  },
  {
   "cell_type": "code",
   "execution_count": 5,
   "metadata": {},
   "outputs": [],
   "source": [
    "def objG(theta,constants):\n",
    "    \n",
    "    n = constants[0]\n",
    "    k = constants[1]\n",
    "    layer = constants[2]\n",
    "    shots = constants[3]\n",
    "    init = constants[4]\n",
    "        \n",
    "    keys = keys_fun(n,k)\n",
    "    \n",
    "    counts = DickeCounts(n,k,theta,shots)\n",
    "    \n",
    "    for key in keys:  #for each key \n",
    "        c_list = []\n",
    "        if key in counts_dict_list[i].keys():\n",
    "            c_list.append(counts_dict_list[i][key])\n",
    "        else:\n",
    "            c_list.append(0)\n",
    "\n",
    "    return np.std(c_list)"
   ]
  },
  {
   "cell_type": "code",
   "execution_count": 8,
   "metadata": {},
   "outputs": [],
   "source": [
    "def objG_state_overlap(theta,constants):\n",
    "    n = constants[0]\n",
    "    k = constants[1]\n",
    "    layer = constants[2]\n",
    "    shots = constants[3]\n",
    "    init = constants[4]\n",
    "       \n",
    "    counts = DickeCounts(n,k,theta,shots)\n",
    "    optimal = binom(n,k)\n",
    "    dotproduct = 0\n",
    "    for key,value in counts.items():\n",
    "        dotproduct += (math.sqrt(value/shots) * 1/math.sqrt(optimal))\n",
    "\n",
    "    return (1 - dotproduct)\n",
    "  "
   ]
  },
  {
   "cell_type": "code",
   "execution_count": 24,
   "metadata": {},
   "outputs": [],
   "source": [
    "#prepares a Dicke state with given n and k\n",
    "#returns the circuit\n",
    "def Dicke(n,k,layer,shots,init):\n",
    "    \n",
    "    n_theta = 6\n",
    "    constants = [n,k,layer,shots,init]\n",
    "\n",
    "    theta = []\n",
    "    for i in range(n_theta):\n",
    "        theta.append(np.random.uniform(0,2*np.pi))\n",
    "\n",
    "    x_list = []\n",
    "    def callback(x):\n",
    "        x_list.append(objG(x,constants))\n",
    "        itr = np.linspace(1,len(x_list),len(x_list))\n",
    "        plt.plot(itr,x_list)\n",
    "        clear_output(wait=True)\n",
    "        plt.show()\n",
    "\n",
    "    opt = sp.optimize.minimize(objG_state_overlap, x0=theta, args=constants, method = 'Powell', callback=callback)\n",
    "    theta_min = opt.x\n",
    "    print(theta_min)\n",
    "\n",
    "    counts_best = DickeCounts(n,k,theta_min,shots)\n",
    "    print(counts_best)\n",
    "\n",
    "    std_best = objG(theta_min,constants)\n",
    "    print(std_best)\n",
    "\n",
    "    ##simulation of the circuit with the right parameters\n",
    "    return DickeCircuit(n,k,opt.x)"
   ]
  },
  {
   "cell_type": "code",
   "execution_count": 26,
   "metadata": {},
   "outputs": [
    {
     "data": {
      "image/png": "[encoded data removed]",
      "text/plain": [
       "<Figure size 432x288 with 1 Axes>"
      ]
     },
     "metadata": {
      "needs_background": "light"
     },
     "output_type": "display_data"
    },
    {
     "name": "stdout",
     "output_type": "stream",
     "text": [
      "[2.51031764 5.48255798]\n",
      "{'0011': 1005, '0101': 932, '0110': 1089, '1001': 1051, '1010': 959, '1100': 964}\n",
      "43.72853971018455\n"
     ]
    },
    {
     "data": {
      "image/png": "[encoded data removed]",
      "text/plain": [
       "<Figure size 576x432 with 1 Axes>"
      ]
     },
     "metadata": {},
     "output_type": "display_data"
    }
   ],
   "source": [
    "n = 4\n",
    "k = 2\n",
    "shots = 1024\n",
    "qc = Dicke(n,k,6000)#num \n",
    "qc.measure(range(n),range(n))\n",
    "backend      = Aer.get_backend(\"qasm_simulator\")\n",
    "simulate     = execute(qc, backend=backend, shots=shots)\n",
    "results = simulate.result()\n",
    "display (plot_histogram(results.get_counts(),figsize = (8,6),bar_labels = False))"
   ]
  },
  {
   "cell_type": "code",
   "execution_count": null,
   "metadata": {},
   "outputs": [],
   "source": []
  },
  {
   "cell_type": "code",
   "execution_count": null,
   "metadata": {},
   "outputs": [],
   "source": []
  },
  {
   "cell_type": "code",
   "execution_count": null,
   "metadata": {},
   "outputs": [],
   "source": []
  },
  {
   "cell_type": "code",
   "execution_count": null,
   "metadata": {},
   "outputs": [],
   "source": []
  },
  {
   "cell_type": "code",
   "execution_count": null,
   "metadata": {},
   "outputs": [],
   "source": []
  },
  {
   "cell_type": "code",
   "execution_count": null,
   "metadata": {},
   "outputs": [],
   "source": []
  },
  {
   "cell_type": "code",
   "execution_count": null,
   "metadata": {},
   "outputs": [],
   "source": []
  }
 ],
 "metadata": {
  "kernelspec": {
   "display_name": "Python 3",
   "language": "python",
   "name": "python3"
  },
  "language_info": {
   "codemirror_mode": {
    "name": "ipython",
    "version": 3
   },
   "file_extension": ".py",
   "mimetype": "text/x-python",
   "name": "python",
   "nbconvert_exporter": "python",
   "pygments_lexer": "ipython3",
   "version": "3.7.3"
  }
 },
 "nbformat": 4,
 "nbformat_minor": 4
}
