{
 "cells": [
  {
   "cell_type": "markdown",
   "metadata": {},
   "source": [
    "# Variational Dicke State Preparation"
   ]
  },
  {
   "cell_type": "code",
   "execution_count": 7,
   "metadata": {},
   "outputs": [
    {
     "name": "stderr",
     "output_type": "stream",
     "text": [
      "C:\\Users\\Hannah\\anaconda3\\lib\\site-packages\\qiskit\\providers\\ibmq\\ibmqfactory.py:192: UserWarning: Timestamps in IBMQ backend properties, jobs, and job results are all now in local time instead of UTC.\n",
      "  warnings.warn('Timestamps in IBMQ backend properties, jobs, and job results '\n"
     ]
    }
   ],
   "source": [
    "# Imports\n",
    "import math\n",
    "import cmath\n",
    "%matplotlib inline\n",
    "import matplotlib as mp\n",
    "import matplotlib.pyplot as plt\n",
    "import numpy as np\n",
    "import scipy as sp\n",
    "from numpy import linalg as la\n",
    "from scipy import linalg as sla\n",
    "from IPython.display import clear_output\n",
    "import time\n",
    "import pickle\n",
    "from qiskit.extensions import XGate, UnitaryGate\n",
    "from qiskit import *\n",
    "from qiskit.compiler import transpile\n",
    "from qiskit.visualization import plot_histogram\n",
    "\n",
    "provider = IBMQ.load_account()\n",
    "from qiskit.providers.aer.noise import NoiseModel\n",
    "\n",
    "from qiskit.quantum_info.synthesis import two_qubit_cnot_decompose as two_qubit_decomp\n",
    "\n",
    "X = np.matrix([[0,1],[1,0]],dtype=complex)\n",
    "Y = np.matrix([[0,-1j],[1j,0]],dtype=complex)\n",
    "\n",
    "swap = np.array([[1,0,0,0],\n",
    "                 [0,0,1,0],\n",
    "                 [0,1,0,0],\n",
    "                 [0,0,0,1]])"
   ]
  },
  {
   "cell_type": "code",
   "execution_count": 8,
   "metadata": {},
   "outputs": [],
   "source": [
    "# Factor out global phase \n",
    "def factor_gp(psi): \n",
    "    gp = np.exp(1j*np.angle(psi[0]))\n",
    "    psi[0] = np.absolute(psi[0])\n",
    "    for i in range(1,len(psi)):\n",
    "        psi[i] /= gp\n",
    "        \n",
    "    return psi\n",
    "\n",
    "def get_phases(psi):\n",
    "    n = len(psi)\n",
    "    p_list = []\n",
    "    for i in range(n):\n",
    "        phi = np.angle(psi[i])\n",
    "        if phi < 0:\n",
    "            phi = 2*np.pi + phi\n",
    "        p_list.append(phi/(2*np.pi))\n",
    "        \n",
    "    return(p_list)\n",
    "\n",
    "def dict_sv(psi):\n",
    "    n = len(psi)\n",
    "    dic = {}\n",
    "    for i in range(n):\n",
    "        binary = str(np.binary_repr(i))\n",
    "        binary = '0'*int(np.log2(n)-len(binary)) + binary\n",
    "        dic[binary] = psi[i]*np.conj(psi[i])\n",
    "\n",
    "    return dic\n",
    "\n",
    "def dicts_sv(psi):\n",
    "    n = len(psi)\n",
    "    dics = []\n",
    "    for i in range(n):\n",
    "        dic = {}\n",
    "        binary = str(np.binary_repr(i))\n",
    "        binary = '0'*int(np.log2(n)-len(binary)) + binary\n",
    "        dic[binary] = psi[i]*np.conj(psi[i])\n",
    "        dics.append(dic)\n",
    "        \n",
    "    return dics"
   ]
  },
  {
   "cell_type": "code",
   "execution_count": 9,
   "metadata": {},
   "outputs": [],
   "source": [
    "def pswap(theta):\n",
    "    \n",
    "    mat = np.array([[1,0,0,0],[0,np.cos(theta),-np.sin(theta),0],[0,np.sin(theta),np.cos(theta),0],[0,0,0,1]])\n",
    "    \n",
    "    return mat"
   ]
  },
  {
   "cell_type": "code",
   "execution_count": 10,
   "metadata": {},
   "outputs": [],
   "source": [
    "#gets an array and shots for 4 qubits \n",
    "#then there are k numbers in theta \n",
    "def counts(theta,shots):\n",
    "    \n",
    "    q = QuantumRegister(4,'q')\n",
    "    c = ClassicalRegister(4,'c')\n",
    "    circ = QuantumCircuit(q,c)\n",
    "    \n",
    "    circ.h(q[0])\n",
    "    circ.x(q[1])\n",
    "    circ.cx(q[0],q[1])\n",
    "\n",
    "    circ.cx(q[0],q[2])\n",
    "    circ.cx(q[1],q[3])\n",
    "\n",
    "    circ.append(two_qubit_decomp(pswap(theta[0])),[q[2],q[3]])\n",
    "    circ.append(two_qubit_decomp(pswap(theta[1])),[q[1],q[2]])\n",
    "    \n",
    "#     circ.cz(q[2],q[3])\n",
    "#     circ.cz(q[0],q[3])\n",
    "\n",
    "    circ.cz(q[0],q[1])\n",
    "    circ.cz(q[1],q[2])\n",
    "    \n",
    "    # Get statevector \n",
    "#     backend = BasicAer.get_backend('statevector_simulator')\n",
    "#     result = execute(circ, backend).result()\n",
    "#     psi = result.get_statevector()\n",
    "#     psi = factor_gp(psi)\n",
    "# #     print(psi)\n",
    "#     phases = get_phases(psi)\n",
    "#     color_map = mp.cm.get_cmap('plasma')\n",
    "#     dic = dict_sv(psi)\n",
    "#     plt.bar(dic.keys(), dic.values(), 0.5, color=color_map(phases))\n",
    "#     plt.show()\n",
    "    \n",
    "    trans = transpile(circ, basis_gates=['u1', 'u2', 'u3', 'cx'], optimization_level=3)\n",
    "\n",
    "#     return trans.draw(output='mpl')\n",
    "\n",
    "    circ.measure(q,c)\n",
    "    \n",
    "    # Quantum device to simulate noise of\n",
    "    backend = provider.get_backend('ibmq_santiago')\n",
    "\n",
    "    # Noise Model\n",
    "    noise_model = NoiseModel.from_backend(backend)\n",
    "    coupling_map = backend.configuration().coupling_map\n",
    "    basis_gates = noise_model.basis_gates\n",
    "\n",
    "#     # Job from noisey simulation\n",
    "#     job = qiskit.execute(circ, Aer.get_backend('qasm_simulator'), noise_model=noise_model, coupling_map=coupling_map, basis_gates=basis_gates, shots=shots)    \n",
    "      \n",
    "    # Regular job\n",
    "    job = qiskit.execute(circ, Aer.get_backend('qasm_simulator'), shots=shots)    \n",
    "    \n",
    "    counts = job.result().get_counts(circ)\n",
    "    \n",
    "    return counts\n"
   ]
  },
  {
   "cell_type": "code",
   "execution_count": 11,
   "metadata": {},
   "outputs": [],
   "source": [
    "# counts([0,0,0,0],1)"
   ]
  },
  {
   "cell_type": "code",
   "execution_count": 12,
   "metadata": {},
   "outputs": [],
   "source": [
    "def obj(theta,constants):\n",
    "    \n",
    "    shots = constants[0]\n",
    "    num = constants[1]\n",
    "    \n",
    "    counts_dict_list = []\n",
    "    for i in range(num):\n",
    "        counts_dict_list.append(counts(theta,shots))\n",
    "        \n",
    "    keys = ['1100','1010','1001','0110','0101','0011']\n",
    "        \n",
    "    counts_avg = []\n",
    "    for key in keys:\n",
    "        c_list = []\n",
    "        for i in range(num):\n",
    "            if key in counts_dict_list[i].keys():\n",
    "                c_list.append(counts_dict_list[i][key])\n",
    "            else:\n",
    "                c_list.append(0)\n",
    "        counts_avg.append(np.average(c_list))\n",
    "\n",
    "    return np.std(counts_avg)"
   ]
  },
  {
   "cell_type": "code",
   "execution_count": 13,
   "metadata": {},
   "outputs": [
    {
     "data": {
      "image/png": "[encoded data removed]",
      "text/plain": [
       "<Figure size 432x288 with 1 Axes>"
      ]
     },
     "metadata": {
      "needs_background": "light"
     },
     "output_type": "display_data"
    },
    {
     "name": "stdout",
     "output_type": "stream",
     "text": [
      "[3.76368482 2.35368318]\n",
      "{'0011': 1019, '0101': 1000, '0110': 1051, '1001': 1008, '1010': 931, '1100': 991}\n",
      "28.344442266649153\n"
     ]
    },
    {
     "data": {
      "image/png": "[encoded data removed]",
      "text/plain": [
       "<Figure size 504x360 with 1 Axes>"
      ]
     },
     "execution_count": 13,
     "metadata": {},
     "output_type": "execute_result"
    }
   ],
   "source": [
    "shots = 6000\n",
    "num = 3\n",
    "n_theta = 2\n",
    "constants = [shots,num]\n",
    "\n",
    "theta = []\n",
    "for i in range(n_theta):\n",
    "    theta.append(np.random.uniform(0,2*np.pi))\n",
    "\n",
    "x_list = []\n",
    "def callback(x):\n",
    "    x_list.append(obj(x,constants))\n",
    "    itr = np.linspace(1,len(x_list),len(x_list))\n",
    "    plt.plot(itr,x_list)\n",
    "    clear_output(wait=True)\n",
    "    plt.show()\n",
    "\n",
    "#opt = sp.optimize.minimize(obj, x0=theta, args=constants, method = 'Powell', callback=callback)\n",
    "\n",
    "theta_min = opt.x\n",
    "print(theta_min)\n",
    "\n",
    "counts_best = counts(theta_min, shots)\n",
    "print(counts_best)\n",
    "\n",
    "std_best = obj(theta_min,constants)\n",
    "print(std_best)\n",
    "\n",
    "plot_histogram(counts_best)"
   ]
  },
  {
   "cell_type": "code",
   "execution_count": 1,
   "metadata": {},
   "outputs": [],
   "source": [
    "def DickeCircuit(n,k,thetas):\n",
    "    qc = QuantumCircuit()\n",
    "    return qc\n",
    "    "
   ]
  },
  {
   "cell_type": "code",
   "execution_count": 5,
   "metadata": {},
   "outputs": [],
   "source": [
    "def objDicke(counts):\n",
    "    objvalue = 0\n",
    "    return 0   "
   ]
  },
  {
   "cell_type": "code",
   "execution_count": null,
   "metadata": {},
   "outputs": [],
   "source": [
    "def objG(thetas,constant )"
   ]
  },
  {
   "cell_type": "code",
   "execution_count": 14,
   "metadata": {},
   "outputs": [],
   "source": [
    "#prepares a Dicke state with given n and k\n",
    "#returns the circuit\n",
    "def Dicke(n,k,shots):\n",
    "\n",
    "    n_theta = 2\n",
    "    constants = [shots]\n",
    "\n",
    "    theta = []\n",
    "    for i in range(n_theta):\n",
    "        theta.append(np.random.uniform(0,2*np.pi))\n",
    "\n",
    "    x_list = []\n",
    "    def callback(x):\n",
    "        x_list.append(objG(x,constants))\n",
    "        itr = np.linspace(1,len(x_list),len(x_list))\n",
    "        plt.plot(itr,x_list)\n",
    "        clear_output(wait=True)\n",
    "        plt.show()\n",
    "\n",
    "    opt = sp.optimize.minimize(objG, x0=theta, args=constants, method = 'Powell', callback=callback)\n",
    "    \n",
    "     \n",
    "    return \n"
   ]
  },
  {
   "cell_type": "code",
   "execution_count": 15,
   "metadata": {},
   "outputs": [
    {
     "ename": "NameError",
     "evalue": "name 'obj_63' is not defined",
     "output_type": "error",
     "traceback": [
      "\u001b[1;31m---------------------------------------------------------------------------\u001b[0m",
      "\u001b[1;31mNameError\u001b[0m                                 Traceback (most recent call last)",
      "\u001b[1;32m<ipython-input-15-f3d32b7e3233>\u001b[0m in \u001b[0;36m<module>\u001b[1;34m\u001b[0m\n\u001b[0;32m      4\u001b[0m \u001b[0mans\u001b[0m \u001b[1;33m=\u001b[0m \u001b[0mClassicalRegister\u001b[0m\u001b[1;33m(\u001b[0m\u001b[0mn\u001b[0m\u001b[1;33m)\u001b[0m\u001b[1;33m\u001b[0m\u001b[1;33m\u001b[0m\u001b[0m\n\u001b[0;32m      5\u001b[0m \u001b[0mqc\u001b[0m \u001b[1;33m=\u001b[0m \u001b[0mQuantumCircuit\u001b[0m\u001b[1;33m(\u001b[0m\u001b[0mqubits\u001b[0m\u001b[1;33m,\u001b[0m\u001b[0mans\u001b[0m\u001b[1;33m)\u001b[0m\u001b[1;33m\u001b[0m\u001b[1;33m\u001b[0m\u001b[0m\n\u001b[1;32m----> 6\u001b[1;33m \u001b[0mdicke\u001b[0m \u001b[1;33m=\u001b[0m \u001b[0mDicke\u001b[0m\u001b[1;33m(\u001b[0m\u001b[0mn\u001b[0m\u001b[1;33m,\u001b[0m\u001b[0mk\u001b[0m\u001b[1;33m,\u001b[0m\u001b[1;36m1024\u001b[0m\u001b[1;33m)\u001b[0m\u001b[1;33m.\u001b[0m\u001b[0mto_gate\u001b[0m\u001b[1;33m(\u001b[0m\u001b[1;33m)\u001b[0m\u001b[1;33m\u001b[0m\u001b[1;33m\u001b[0m\u001b[0m\n\u001b[0m\u001b[0;32m      7\u001b[0m \u001b[0mqc\u001b[0m\u001b[1;33m.\u001b[0m\u001b[0mappend\u001b[0m\u001b[1;33m(\u001b[0m\u001b[0mdicke\u001b[0m\u001b[1;33m,\u001b[0m\u001b[0mrange\u001b[0m\u001b[1;33m(\u001b[0m\u001b[0mn\u001b[0m\u001b[1;33m)\u001b[0m\u001b[1;33m)\u001b[0m\u001b[1;33m\u001b[0m\u001b[1;33m\u001b[0m\u001b[0m\n\u001b[0;32m      8\u001b[0m \u001b[0mqc\u001b[0m\u001b[1;33m.\u001b[0m\u001b[0mmeasure\u001b[0m\u001b[1;33m(\u001b[0m\u001b[0mqubits\u001b[0m\u001b[1;33m,\u001b[0m\u001b[0mans\u001b[0m\u001b[1;33m)\u001b[0m\u001b[1;33m\u001b[0m\u001b[1;33m\u001b[0m\u001b[0m\n",
      "\u001b[1;32m<ipython-input-14-5ef5a6737f34>\u001b[0m in \u001b[0;36mDicke\u001b[1;34m(n, k, shots)\u001b[0m\n\u001b[0;32m     18\u001b[0m         \u001b[0mplt\u001b[0m\u001b[1;33m.\u001b[0m\u001b[0mshow\u001b[0m\u001b[1;33m(\u001b[0m\u001b[1;33m)\u001b[0m\u001b[1;33m\u001b[0m\u001b[1;33m\u001b[0m\u001b[0m\n\u001b[0;32m     19\u001b[0m \u001b[1;33m\u001b[0m\u001b[0m\n\u001b[1;32m---> 20\u001b[1;33m     \u001b[0mopt\u001b[0m \u001b[1;33m=\u001b[0m \u001b[0msp\u001b[0m\u001b[1;33m.\u001b[0m\u001b[0moptimize\u001b[0m\u001b[1;33m.\u001b[0m\u001b[0mminimize\u001b[0m\u001b[1;33m(\u001b[0m\u001b[0mobj_63\u001b[0m\u001b[1;33m,\u001b[0m \u001b[0mx0\u001b[0m\u001b[1;33m=\u001b[0m\u001b[0mtheta\u001b[0m\u001b[1;33m,\u001b[0m \u001b[0margs\u001b[0m\u001b[1;33m=\u001b[0m\u001b[0mconstants\u001b[0m\u001b[1;33m,\u001b[0m \u001b[0mmethod\u001b[0m \u001b[1;33m=\u001b[0m \u001b[1;34m'Powell'\u001b[0m\u001b[1;33m,\u001b[0m \u001b[0mcallback\u001b[0m\u001b[1;33m=\u001b[0m\u001b[0mcallback\u001b[0m\u001b[1;33m)\u001b[0m\u001b[1;33m\u001b[0m\u001b[1;33m\u001b[0m\u001b[0m\n\u001b[0m\u001b[0;32m     21\u001b[0m \u001b[1;33m\u001b[0m\u001b[0m\n\u001b[0;32m     22\u001b[0m \u001b[1;33m\u001b[0m\u001b[0m\n",
      "\u001b[1;31mNameError\u001b[0m: name 'obj_63' is not defined"
     ]
    }
   ],
   "source": [
    "n = 4\n",
    "k = 2\n",
    "qubits = QuantumRegister(n)\n",
    "ans = ClassicalRegister(n)\n",
    "qc = QuantumCircuit(qubits,ans)\n",
    "dicke = Dicke(n,k,1024).to_gate()\n",
    "qc.append(dicke,range(n))\n",
    "qc.measure(qubits,ans)\n",
    "backend      = Aer.get_backend(\"qasm_simulator\")\n",
    "simulate     = execute(qc, backend=backend, shots=shots)\n",
    "results = simulate.result()\n",
    "display (plot_histogram(results.get_counts(),figsize = (8,6),bar_labels = False))"
   ]
  },
  {
   "cell_type": "code",
   "execution_count": 8,
   "metadata": {},
   "outputs": [],
   "source": [
    "def counts_63(theta,shots):\n",
    "    \n",
    "    q = QuantumRegister(5,'q')\n",
    "    c = ClassicalRegister(5,'c')\n",
    "    circ = QuantumCircuit(q,c)\n",
    "    \n",
    "    circ.x(q[0])\n",
    "    circ.x(q[2])\n",
    "    \n",
    "#     circ.ry(theta[5],q[0])\n",
    "#     circ.x(q[1])\n",
    "#     circ.cx(q[0],q[1])\n",
    "\n",
    "#     circ.cx(q[0],q[2])\n",
    "#     circ.cx(q[1],q[3])\n",
    "\n",
    "#     circ.cx(q[0],q[4])\n",
    "#     circ.cx(q[1],q[5])\n",
    "\n",
    "    circ.append(two_qubit_decomp(pswap(theta[0]) @ swap),[q[0],q[1]])\n",
    "    circ.append(two_qubit_decomp(pswap(theta[1]) @ swap),[q[2],q[3]])\n",
    "    \n",
    "    circ.append(two_qubit_decomp(pswap(theta[2]) @ swap),[q[1],q[2]])\n",
    "    circ.append(two_qubit_decomp(pswap(theta[3]) @ swap),[q[3],q[4]])\n",
    "    \n",
    "    circ.append(two_qubit_decomp(pswap(theta[4]) @ swap),[q[0],q[1]])\n",
    "    circ.append(two_qubit_decomp(pswap(theta[5]) @ swap),[q[2],q[3]])\n",
    "    \n",
    "    circ.append(two_qubit_decomp(pswap(theta[6]) @ swap),[q[1],q[2]])\n",
    "    circ.append(two_qubit_decomp(pswap(theta[7]) @ swap),[q[3],q[4]])\n",
    "    \n",
    "#     circ.append(two_qubit_decomp(pswap(theta[2])),[q[4],q[5]])\n",
    "    \n",
    "\n",
    "    \n",
    "#     circ.append(two_qubit_decomp(pswap(theta[5])),[q[0],q[1]])\n",
    "#     circ.append(two_qubit_decomp(pswap(theta[6])),[q[2],q[3]])\n",
    "#     circ.append(two_qubit_decomp(pswap(theta[7])),[q[4],q[5]])\n",
    "    \n",
    "#     # Get statevector \n",
    "#     backend = BasicAer.get_backend('statevector_simulator')\n",
    "#     result = execute(circ, backend).result()\n",
    "#     psi = result.get_statevector()\n",
    "#     psi = factor_gp(psi)\n",
    "#     print(psi)\n",
    "#     phases = get_phases(psi)\n",
    "#     color_map = mp.cm.get_cmap('plasma')\n",
    "#     dic = dict_sv(psi)\n",
    "#     plt.bar(dic.keys(), dic.values(), 0.5, color=color_map(phases))\n",
    "#     plt.show()\n",
    "    \n",
    "#     trans = transpile(circ, basis_gates=['u1', 'u2', 'u3', 'cx'], optimization_level=3)\n",
    "\n",
    "    return circ.draw(output='mpl')\n",
    "\n",
    "    circ.measure(q,c)\n",
    "    \n",
    "#     # Quantum device to simulate noise of\n",
    "#     backend = provider.get_backend('ibmq_santiago')\n",
    "\n",
    "#     # Noise Model\n",
    "#     noise_model = NoiseModel.from_backend(backend)\n",
    "#     coupling_map = backend.configuration().coupling_map\n",
    "#     basis_gates = noise_model.basis_gates\n",
    "\n",
    "#     # Job from noisey simulation\n",
    "#     job = qiskit.execute(circ, Aer.get_backend('qasm_simulator'), noise_model=noise_model, coupling_map=coupling_map, basis_gates=basis_gates, shots=shots)    \n",
    "      \n",
    "    # Regular job\n",
    "    job = qiskit.execute(circ, Aer.get_backend('qasm_simulator'), shots=shots)    \n",
    "    \n",
    "    counts = job.result().get_counts(circ)\n",
    "    \n",
    "    return counts\n"
   ]
  },
  {
   "cell_type": "code",
   "execution_count": 9,
   "metadata": {},
   "outputs": [
    {
     "data": {
      "image/png": "[encoded data removed]",
      "text/plain": [
       "<Figure size 923.377x385.28 with 1 Axes>"
      ]
     },
     "execution_count": 9,
     "metadata": {},
     "output_type": "execute_result"
    }
   ],
   "source": [
    "counts_63([0,0,0,0,0,0,0,0],1)"
   ]
  },
  {
   "cell_type": "code",
   "execution_count": 10,
   "metadata": {},
   "outputs": [],
   "source": [
    "def obj_63(theta,constants):\n",
    "    \n",
    "    shots = constants[0]\n",
    "    num = constants[1]\n",
    "    \n",
    "    counts_dict_list = []\n",
    "    for i in range(num):\n",
    "        counts_dict_list.append(counts_63(theta,shots))\n",
    "        \n",
    "    keys = ['11000','10100','10010','10001','01100','01010','01001','00110','00101','00011']\n",
    "            \n",
    "    counts_avg = []\n",
    "    for key in keys:\n",
    "        c_list = []\n",
    "        for i in range(num):\n",
    "            if key in counts_dict_list[i].keys():\n",
    "                c_list.append(counts_dict_list[i][key])\n",
    "            else:\n",
    "                c_list.append(0)\n",
    "        counts_avg.append(np.average(c_list))\n",
    "\n",
    "    return np.std(counts_avg)"
   ]
  },
  {
   "cell_type": "code",
   "execution_count": 11,
   "metadata": {},
   "outputs": [
    {
     "ename": "AttributeError",
     "evalue": "'Figure' object has no attribute 'keys'",
     "output_type": "error",
     "traceback": [
      "\u001b[1;31m---------------------------------------------------------------------------\u001b[0m",
      "\u001b[1;31mAttributeError\u001b[0m                            Traceback (most recent call last)",
      "\u001b[1;32m<ipython-input-11-23e767be7cc0>\u001b[0m in \u001b[0;36m<module>\u001b[1;34m\u001b[0m\n\u001b[0;32m     16\u001b[0m     \u001b[0mplt\u001b[0m\u001b[1;33m.\u001b[0m\u001b[0mshow\u001b[0m\u001b[1;33m(\u001b[0m\u001b[1;33m)\u001b[0m\u001b[1;33m\u001b[0m\u001b[1;33m\u001b[0m\u001b[0m\n\u001b[0;32m     17\u001b[0m \u001b[1;33m\u001b[0m\u001b[0m\n\u001b[1;32m---> 18\u001b[1;33m \u001b[0mopt\u001b[0m \u001b[1;33m=\u001b[0m \u001b[0msp\u001b[0m\u001b[1;33m.\u001b[0m\u001b[0moptimize\u001b[0m\u001b[1;33m.\u001b[0m\u001b[0mminimize\u001b[0m\u001b[1;33m(\u001b[0m\u001b[0mobj_63\u001b[0m\u001b[1;33m,\u001b[0m \u001b[0mx0\u001b[0m\u001b[1;33m=\u001b[0m\u001b[0mtheta\u001b[0m\u001b[1;33m,\u001b[0m \u001b[0margs\u001b[0m\u001b[1;33m=\u001b[0m\u001b[0mconstants\u001b[0m\u001b[1;33m,\u001b[0m \u001b[0mmethod\u001b[0m \u001b[1;33m=\u001b[0m \u001b[1;34m'Powell'\u001b[0m\u001b[1;33m,\u001b[0m \u001b[0mcallback\u001b[0m\u001b[1;33m=\u001b[0m\u001b[0mcallback\u001b[0m\u001b[1;33m)\u001b[0m\u001b[1;33m\u001b[0m\u001b[1;33m\u001b[0m\u001b[0m\n\u001b[0m\u001b[0;32m     19\u001b[0m \u001b[1;33m\u001b[0m\u001b[0m\n\u001b[0;32m     20\u001b[0m \u001b[0mtheta_min\u001b[0m \u001b[1;33m=\u001b[0m \u001b[0mopt\u001b[0m\u001b[1;33m.\u001b[0m\u001b[0mx\u001b[0m\u001b[1;33m\u001b[0m\u001b[1;33m\u001b[0m\u001b[0m\n",
      "\u001b[1;32m~\\anaconda3\\lib\\site-packages\\scipy\\optimize\\_minimize.py\u001b[0m in \u001b[0;36mminimize\u001b[1;34m(fun, x0, args, method, jac, hess, hessp, bounds, constraints, tol, callback, options)\u001b[0m\n\u001b[0;32m    606\u001b[0m         \u001b[1;32mreturn\u001b[0m \u001b[0m_minimize_neldermead\u001b[0m\u001b[1;33m(\u001b[0m\u001b[0mfun\u001b[0m\u001b[1;33m,\u001b[0m \u001b[0mx0\u001b[0m\u001b[1;33m,\u001b[0m \u001b[0margs\u001b[0m\u001b[1;33m,\u001b[0m \u001b[0mcallback\u001b[0m\u001b[1;33m,\u001b[0m \u001b[1;33m**\u001b[0m\u001b[0moptions\u001b[0m\u001b[1;33m)\u001b[0m\u001b[1;33m\u001b[0m\u001b[1;33m\u001b[0m\u001b[0m\n\u001b[0;32m    607\u001b[0m     \u001b[1;32melif\u001b[0m \u001b[0mmeth\u001b[0m \u001b[1;33m==\u001b[0m \u001b[1;34m'powell'\u001b[0m\u001b[1;33m:\u001b[0m\u001b[1;33m\u001b[0m\u001b[1;33m\u001b[0m\u001b[0m\n\u001b[1;32m--> 608\u001b[1;33m         \u001b[1;32mreturn\u001b[0m \u001b[0m_minimize_powell\u001b[0m\u001b[1;33m(\u001b[0m\u001b[0mfun\u001b[0m\u001b[1;33m,\u001b[0m \u001b[0mx0\u001b[0m\u001b[1;33m,\u001b[0m \u001b[0margs\u001b[0m\u001b[1;33m,\u001b[0m \u001b[0mcallback\u001b[0m\u001b[1;33m,\u001b[0m \u001b[0mbounds\u001b[0m\u001b[1;33m,\u001b[0m \u001b[1;33m**\u001b[0m\u001b[0moptions\u001b[0m\u001b[1;33m)\u001b[0m\u001b[1;33m\u001b[0m\u001b[1;33m\u001b[0m\u001b[0m\n\u001b[0m\u001b[0;32m    609\u001b[0m     \u001b[1;32melif\u001b[0m \u001b[0mmeth\u001b[0m \u001b[1;33m==\u001b[0m \u001b[1;34m'cg'\u001b[0m\u001b[1;33m:\u001b[0m\u001b[1;33m\u001b[0m\u001b[1;33m\u001b[0m\u001b[0m\n\u001b[0;32m    610\u001b[0m         \u001b[1;32mreturn\u001b[0m \u001b[0m_minimize_cg\u001b[0m\u001b[1;33m(\u001b[0m\u001b[0mfun\u001b[0m\u001b[1;33m,\u001b[0m \u001b[0mx0\u001b[0m\u001b[1;33m,\u001b[0m \u001b[0margs\u001b[0m\u001b[1;33m,\u001b[0m \u001b[0mjac\u001b[0m\u001b[1;33m,\u001b[0m \u001b[0mcallback\u001b[0m\u001b[1;33m,\u001b[0m \u001b[1;33m**\u001b[0m\u001b[0moptions\u001b[0m\u001b[1;33m)\u001b[0m\u001b[1;33m\u001b[0m\u001b[1;33m\u001b[0m\u001b[0m\n",
      "\u001b[1;32m~\\anaconda3\\lib\\site-packages\\scipy\\optimize\\optimize.py\u001b[0m in \u001b[0;36m_minimize_powell\u001b[1;34m(func, x0, args, callback, bounds, xtol, ftol, maxiter, maxfev, disp, direc, return_all, **unknown_options)\u001b[0m\n\u001b[0;32m   2919\u001b[0m                           OptimizeWarning, 3)\n\u001b[0;32m   2920\u001b[0m \u001b[1;33m\u001b[0m\u001b[0m\n\u001b[1;32m-> 2921\u001b[1;33m     \u001b[0mfval\u001b[0m \u001b[1;33m=\u001b[0m \u001b[0msqueeze\u001b[0m\u001b[1;33m(\u001b[0m\u001b[0mfunc\u001b[0m\u001b[1;33m(\u001b[0m\u001b[0mx\u001b[0m\u001b[1;33m)\u001b[0m\u001b[1;33m)\u001b[0m\u001b[1;33m\u001b[0m\u001b[1;33m\u001b[0m\u001b[0m\n\u001b[0m\u001b[0;32m   2922\u001b[0m     \u001b[0mx1\u001b[0m \u001b[1;33m=\u001b[0m \u001b[0mx\u001b[0m\u001b[1;33m.\u001b[0m\u001b[0mcopy\u001b[0m\u001b[1;33m(\u001b[0m\u001b[1;33m)\u001b[0m\u001b[1;33m\u001b[0m\u001b[1;33m\u001b[0m\u001b[0m\n\u001b[0;32m   2923\u001b[0m     \u001b[0miter\u001b[0m \u001b[1;33m=\u001b[0m \u001b[1;36m0\u001b[0m\u001b[1;33m\u001b[0m\u001b[1;33m\u001b[0m\u001b[0m\n",
      "\u001b[1;32m~\\anaconda3\\lib\\site-packages\\scipy\\optimize\\optimize.py\u001b[0m in \u001b[0;36mfunction_wrapper\u001b[1;34m(*wrapper_args)\u001b[0m\n\u001b[0;32m    425\u001b[0m     \u001b[1;32mdef\u001b[0m \u001b[0mfunction_wrapper\u001b[0m\u001b[1;33m(\u001b[0m\u001b[1;33m*\u001b[0m\u001b[0mwrapper_args\u001b[0m\u001b[1;33m)\u001b[0m\u001b[1;33m:\u001b[0m\u001b[1;33m\u001b[0m\u001b[1;33m\u001b[0m\u001b[0m\n\u001b[0;32m    426\u001b[0m         \u001b[0mncalls\u001b[0m\u001b[1;33m[\u001b[0m\u001b[1;36m0\u001b[0m\u001b[1;33m]\u001b[0m \u001b[1;33m+=\u001b[0m \u001b[1;36m1\u001b[0m\u001b[1;33m\u001b[0m\u001b[1;33m\u001b[0m\u001b[0m\n\u001b[1;32m--> 427\u001b[1;33m         \u001b[1;32mreturn\u001b[0m \u001b[0mfunction\u001b[0m\u001b[1;33m(\u001b[0m\u001b[1;33m*\u001b[0m\u001b[1;33m(\u001b[0m\u001b[0mwrapper_args\u001b[0m \u001b[1;33m+\u001b[0m \u001b[0margs\u001b[0m\u001b[1;33m)\u001b[0m\u001b[1;33m)\u001b[0m\u001b[1;33m\u001b[0m\u001b[1;33m\u001b[0m\u001b[0m\n\u001b[0m\u001b[0;32m    428\u001b[0m \u001b[1;33m\u001b[0m\u001b[0m\n\u001b[0;32m    429\u001b[0m     \u001b[1;32mreturn\u001b[0m \u001b[0mncalls\u001b[0m\u001b[1;33m,\u001b[0m \u001b[0mfunction_wrapper\u001b[0m\u001b[1;33m\u001b[0m\u001b[1;33m\u001b[0m\u001b[0m\n",
      "\u001b[1;32m<ipython-input-10-4b6b9318c451>\u001b[0m in \u001b[0;36mobj_63\u001b[1;34m(theta, constants)\u001b[0m\n\u001b[0;32m     14\u001b[0m         \u001b[0mc_list\u001b[0m \u001b[1;33m=\u001b[0m \u001b[1;33m[\u001b[0m\u001b[1;33m]\u001b[0m\u001b[1;33m\u001b[0m\u001b[1;33m\u001b[0m\u001b[0m\n\u001b[0;32m     15\u001b[0m         \u001b[1;32mfor\u001b[0m \u001b[0mi\u001b[0m \u001b[1;32min\u001b[0m \u001b[0mrange\u001b[0m\u001b[1;33m(\u001b[0m\u001b[0mnum\u001b[0m\u001b[1;33m)\u001b[0m\u001b[1;33m:\u001b[0m\u001b[1;33m\u001b[0m\u001b[1;33m\u001b[0m\u001b[0m\n\u001b[1;32m---> 16\u001b[1;33m             \u001b[1;32mif\u001b[0m \u001b[0mkey\u001b[0m \u001b[1;32min\u001b[0m \u001b[0mcounts_dict_list\u001b[0m\u001b[1;33m[\u001b[0m\u001b[0mi\u001b[0m\u001b[1;33m]\u001b[0m\u001b[1;33m.\u001b[0m\u001b[0mkeys\u001b[0m\u001b[1;33m(\u001b[0m\u001b[1;33m)\u001b[0m\u001b[1;33m:\u001b[0m\u001b[1;33m\u001b[0m\u001b[1;33m\u001b[0m\u001b[0m\n\u001b[0m\u001b[0;32m     17\u001b[0m                 \u001b[0mc_list\u001b[0m\u001b[1;33m.\u001b[0m\u001b[0mappend\u001b[0m\u001b[1;33m(\u001b[0m\u001b[0mcounts_dict_list\u001b[0m\u001b[1;33m[\u001b[0m\u001b[0mi\u001b[0m\u001b[1;33m]\u001b[0m\u001b[1;33m[\u001b[0m\u001b[0mkey\u001b[0m\u001b[1;33m]\u001b[0m\u001b[1;33m)\u001b[0m\u001b[1;33m\u001b[0m\u001b[1;33m\u001b[0m\u001b[0m\n\u001b[0;32m     18\u001b[0m             \u001b[1;32melse\u001b[0m\u001b[1;33m:\u001b[0m\u001b[1;33m\u001b[0m\u001b[1;33m\u001b[0m\u001b[0m\n",
      "\u001b[1;31mAttributeError\u001b[0m: 'Figure' object has no attribute 'keys'"
     ]
    }
   ],
   "source": [
    "shots = 4000\n",
    "num = 3\n",
    "n_theta = 8\n",
    "constants = [shots,num]\n",
    "\n",
    "theta = []\n",
    "for i in range(n_theta):\n",
    "    theta.append(np.random.uniform(0,2*np.pi))\n",
    "\n",
    "x_list = []\n",
    "def callback(x):\n",
    "    x_list.append(obj_63(x,constants))\n",
    "    itr = np.linspace(1,len(x_list),len(x_list))\n",
    "    plt.plot(itr,x_list)\n",
    "    clear_output(wait=True)\n",
    "    plt.show()\n",
    "\n",
    "opt = sp.optimize.minimize(obj_63, x0=theta, args=constants, method = 'Powell', callback=callback)\n",
    "\n",
    "theta_min = opt.x\n",
    "print(theta_min)\n",
    "\n",
    "counts_best = counts_63(theta_min, shots)\n",
    "print(counts_best)\n",
    "\n",
    "std_best = obj_63(theta_min,constants)\n",
    "print(std_best)\n",
    "\n",
    "plot_histogram(counts_best)"
   ]
  },
  {
   "cell_type": "code",
   "execution_count": 14,
   "metadata": {},
   "outputs": [
    {
     "data": {
      "text/plain": [
       "{'0011': 999,\n",
       " '0101': 990,\n",
       " '0110': 1050,\n",
       " '1001': 962,\n",
       " '1010': 958,\n",
       " '1100': 1041}"
      ]
     },
     "execution_count": 14,
     "metadata": {},
     "output_type": "execute_result"
    }
   ],
   "source": [
    "# c = counts([2.53176397, 5.49911426],6000)\n",
    "counts([np.arccos(np.sqrt(2/3)), np.arccos(np.sqrt(1/2))],6000)\n",
    "# plot_histogram(c)"
   ]
  }
 ],
 "metadata": {
  "kernelspec": {
   "display_name": "Python 3",
   "language": "python",
   "name": "python3"
  },
  "language_info": {
   "codemirror_mode": {
    "name": "ipython",
    "version": 3
   },
   "file_extension": ".py",
   "mimetype": "text/x-python",
   "name": "python",
   "nbconvert_exporter": "python",
   "pygments_lexer": "ipython3",
   "version": "3.8.3"
  }
 },
 "nbformat": 4,
 "nbformat_minor": 4
}
